{
 "cells": [
  {
   "cell_type": "code",
   "execution_count": 1,
   "metadata": {},
   "outputs": [],
   "source": [
    "def get_time():\n",
    "    from datetime import datetime\n",
    "    from pytz import timezone\n",
    "    return datetime.now().astimezone(timezone(\"America/Sao_Paulo\")).strftime(\"%Y_%m_%d_%H_%M_%S\")\n",
    "\n",
    "def get_shape_flow(from_arq_latlon, from_arq_fluxos):\n",
    "    import os\n",
    "    import geopandas as gpd\n",
    "    import pandas as pd\n",
    "    from shapely.geometry import LineString, Point\n",
    "    from shapely import wkt\n",
    "\n",
    "    print(\"Setando as pastas de destino\")\n",
    "    \n",
    "    path_shp = \"./\" + get_time() + \"_shp/\"\n",
    "    \n",
    "    path_geojson = \"./\" + get_time() + \"_geojson/\"\n",
    "    \n",
    "    path_csv = \"./\" + get_time() + \"_csv/\"\n",
    "    \n",
    "    path_parquet = \"./\" + get_time() + \"_parquet/\"\n",
    "\n",
    "    print(\"Criando as pastas de destino (e criando) a pasta /shp\")\n",
    "    os.mkdir(path_parquet)\n",
    "\n",
    "    print(\"Lendo o dataset com latitude e longitude\")\n",
    "    df_latlon_ori = pd.read_csv(from_arq_latlon, index_col = False)\n",
    "    df_latlon_ori[([\"NOMESIGMAI\", \"LATITUDE\", \"LONGITUDE\"])]\n",
    "    df_latlon_ori[\"LATITUDE\"] = df_latlon_ori[\"LATITUDE\"].astype(\"str\")\n",
    "    df_latlon_ori[\"LONGITUDE\"] = df_latlon_ori[\"LONGITUDE\"].astype(\"str\")\n",
    "    df_latlon_ori[\"origem_latlon\"] = \"POINT (\" + df_latlon_ori[\"LONGITUDE\"] + \" \" + df_latlon_ori[\"LATITUDE\"] + \")\"\n",
    "    df_latlon_ori.rename({\"NOMESIGMAI\" : \"origem\"}, axis = 1, inplace = True)\n",
    "    \n",
    "    df_latlon_des = pd.read_csv(from_arq_latlon, index_col = False)\n",
    "    df_latlon_des[\"LATITUDE\"] = df_latlon_des[\"LATITUDE\"].astype(\"str\")\n",
    "    df_latlon_des[\"LONGITUDE\"] = df_latlon_des[\"LONGITUDE\"].astype(\"str\")\n",
    "    df_latlon_des[\"destino_latlon\"] = \"POINT (\" + df_latlon_des[\"LONGITUDE\"] + \" \" + df_latlon_des[\"LATITUDE\"] + \")\"\n",
    "    df_latlon_des.drop([\"NOMESIG\", \"NOME\", \"UF\", \"GEOCODIGO\", \"LATITUDEGM\", \"LONGITUDEG\", \"RGINT\", \"RGI\", \"LATITUDE\", \"LONGITUDE\"], axis = 1, inplace = True)\n",
    "    df_latlon_des.rename({\"NOMESIGMAI\" : \"destino\"}, axis = 1, inplace = True)\n",
    "\n",
    "    print(\"Lendo o dataset com os dados de movimentação de passageiros\")\n",
    "    df_left = pd.read_csv(from_arq_fluxos, index_col = False, sep = \";\")\n",
    "\n",
    "    print(\"Realizando join entre dataset de movimentação + dataset latlon\")\n",
    "    df_left = df_left.merge(df_latlon_ori, on = \"origem\", how = \"left\")\n",
    "    df_left = df_left.merge(df_latlon_des, on = \"destino\", how = \"left\")\n",
    "\n",
    "    df_left[\"origem_latlon\"] = df_left[\"origem_latlon\"].apply(wkt.loads)\n",
    "    df_left[\"destino_latlon\"] = df_left[\"destino_latlon\"].apply(wkt.loads)\n",
    "\n",
    "    print(\"Criando a coluna linestring no dataset de movimentação de passageiros\")\n",
    "    df_left[\"linestring\"] = df_left.apply(lambda row: LineString([row[\"origem_latlon\"], row[\"destino_latlon\"]]), axis = 1)\n",
    "\n",
    "    print(\"Criando GeoDataFrame com GeoPandas\")\n",
    "    df_geo = gpd.GeoDataFrame(df_left[[\"ano\", \"origem\", \"destino\", \"passageiros\"]], geometry = df_left[\"linestring\"], crs='epsg:4674')\n",
    "\n",
    "    df_geo[\"passageiros\"] = gpd.pd.to_numeric(df_geo[\"passageiros\"], downcast = \"integer\")\n",
    "\n",
    "    print(\"Criando coluna id para remoção das linhas duplicadas\")\n",
    "    df_geo[\"id\"] = (df_geo[\"ano\"]).astype(\"str\") + (df_geo[\"passageiros\"] * (df_geo.length * 10)).astype(\"str\").str.replace(\".\", \"\", regex = True)\n",
    "\n",
    "    df_geo[\"origem_destino\"] = df_geo[\"origem\"] + \" - \" + df_geo[\"destino\"]\n",
    "\n",
    "    print(\"Removendo as linhas duplicadas\")\n",
    "    df_geo.drop_duplicates([\"id\"], keep = \"first\", inplace = True)\n",
    "\n",
    "    df_geo.to_parquet(path_parquet + \"teste.parquet\", compression = \"snappy\")\n",
    "    \n",
    "    print(\"Tarefa concluída.\")\n",
    "    input()"
   ]
  },
  {
   "cell_type": "code",
   "execution_count": 2,
   "metadata": {},
   "outputs": [
    {
     "name": "stdout",
     "output_type": "stream",
     "text": [
      "Setando as pastas de destino\n",
      "Criando as pastas de destino (e criando) a pasta /shp\n",
      "Lendo o dataset com latitude e longitude\n",
      "Lendo o dataset com os dados de movimentação de passageiros\n",
      "Realizando join entre dataset de movimentação + dataset latlon\n",
      "Criando a coluna linestring no dataset de movimentação de passageiros\n",
      "Criando GeoDataFrame com GeoPandas\n",
      "Criando coluna id para remoção das linhas duplicadas\n"
     ]
    },
    {
     "name": "stderr",
     "output_type": "stream",
     "text": [
      "C:\\Users\\JHZL\\AppData\\Local\\Temp\\ipykernel_8196\\3443351487.py:60: UserWarning: Geometry is in a geographic CRS. Results from 'length' are likely incorrect. Use 'GeoSeries.to_crs()' to re-project geometries to a projected CRS before this operation.\n",
      "\n",
      "  df_geo[\"id\"] = (df_geo[\"ano\"]).astype(\"str\") + (df_geo[\"passageiros\"] * (df_geo.length * 10)).astype(\"str\").str.replace(\".\", \"\", regex = True)\n"
     ]
    },
    {
     "name": "stdout",
     "output_type": "stream",
     "text": [
      "Removendo as linhas duplicadas\n",
      "Tarefa concluída.\n"
     ]
    }
   ],
   "source": [
    "from path import latlon, fluxos\n",
    "    \n",
    "get_shape_flow(latlon, fluxos)"
   ]
  }
 ],
 "metadata": {
  "kernelspec": {
   "display_name": "Python 3",
   "language": "python",
   "name": "python3"
  },
  "language_info": {
   "codemirror_mode": {
    "name": "ipython",
    "version": 3
   },
   "file_extension": ".py",
   "mimetype": "text/x-python",
   "name": "python",
   "nbconvert_exporter": "python",
   "pygments_lexer": "ipython3",
   "version": "3.10.6"
  },
  "orig_nbformat": 4,
  "vscode": {
   "interpreter": {
    "hash": "26de051ba29f2982a8de78e945f0abaf191376122a1563185a90213a26c5da77"
   }
  }
 },
 "nbformat": 4,
 "nbformat_minor": 2
}
